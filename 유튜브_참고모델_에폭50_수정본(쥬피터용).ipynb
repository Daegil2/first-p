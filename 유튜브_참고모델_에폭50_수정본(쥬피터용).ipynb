{
  "cells": [
    {
      "cell_type": "code",
      "execution_count": 9,
      "metadata": {
        "id": "XrO2p-F75V9l"
      },
      "outputs": [],
      "source": [
        "import glob\n",
        "import os\n",
        "import random\n",
        "import numpy as np\n",
        "from matplotlib import pyplot as plt\n",
        "from sklearn.model_selection import train_test_split\n",
        "from tensorflow.keras import backend as K\n",
        "from tensorflow.keras.layers import Conv2D, MaxPool2D, Dense, Flatten, Dropout, MaxPooling2D, BatchNormalization, Activation\n",
        "from tensorflow.keras.models import Sequential\n",
        "from tensorflow.keras.utils import to_categorical, plot_model\n",
        "from tensorflow.keras.preprocessing.image import img_to_array\n",
        "from tensorflow.keras.optimizers import Adam\n",
        "from tensorflow.keras.preprocessing.image import ImageDataGenerator\n",
        "import cv2\n",
        "import os\n",
        "\n",
        "#추가 \n",
        "\n"
      ]
    },
    {
      "cell_type": "code",
      "execution_count": 10,
      "metadata": {},
      "outputs": [
        {
          "data": {
            "text/plain": [
              "'c:\\\\deep\\\\utube'"
            ]
          },
          "execution_count": 10,
          "metadata": {},
          "output_type": "execute_result"
        }
      ],
      "source": [
        "os.getcwd()"
      ]
    },
    {
      "cell_type": "code",
      "execution_count": 12,
      "metadata": {},
      "outputs": [
        {
          "name": "stdout",
          "output_type": "stream",
          "text": [
            "Requirement already satisfied: opencv-python in c:\\users\\kwon\\anaconda3\\lib\\site-packages (4.5.4.58)\n",
            "Requirement already satisfied: numpy>=1.17.3 in c:\\users\\kwon\\anaconda3\\lib\\site-packages (from opencv-python) (1.19.5)\n"
          ]
        }
      ],
      "source": [
        "# opencv library 설치\n",
        "!pip install opencv-python"
      ]
    },
    {
      "cell_type": "code",
      "execution_count": 13,
      "metadata": {
        "id": "Q_mOVm7w6KVK"
      },
      "outputs": [],
      "source": [
        "#초기 파라미터\n",
        "epochs = 50\n",
        "lr = 1e-3\n",
        "batch_size = 32\n",
        "img_dims = (96,96,3)\n",
        "data = []\n",
        "labels= []\n",
        "\n",
        "\n",
        "image_files = [f for f in glob.glob(r'C:\\deep\\utube\\set6'+ \"/**/*\", recursive =True) if not os.path.isdir(f)]\n",
        "random.shuffle(image_files)\n"
      ]
    },
    {
      "cell_type": "code",
      "execution_count": 14,
      "metadata": {
        "id": "587ZFXMo6pdr"
      },
      "outputs": [],
      "source": [
        "for img in image_files:\n",
        "\n",
        "    image = cv2.imread(img)\n",
        "    \n",
        "    image = cv2.resize(image, (img_dims[0],img_dims[1]))\n",
        "    image = img_to_array(image)\n",
        "    data.append(image)\n",
        "\n",
        "    label = img.split(os.path.sep)[-2] # \n",
        "    if label == \"error\":\n",
        "        label = 1\n",
        "    else:\n",
        "        label = 0\n",
        "        \n",
        "    labels.append([label]) # [[1], [0], [0], ...]\n",
        "\n",
        "# pre-processing\n",
        "data = np.array(data, dtype=\"float\") / 255.0\n",
        "labels = np.array(labels)\n",
        "\n",
        "# split dataset for training and validation\n",
        "\n",
        "(trainX, testX, trainY, testY) = train_test_split(data, labels, test_size=0.2,\n",
        "                                                  random_state=42)\n",
        "\n",
        "trainY = to_categorical(trainY, num_classes=2)\n",
        "testY= to_categorical(testY, num_classes=2)\n"
      ]
    },
    {
      "cell_type": "code",
      "execution_count": 16,
      "metadata": {
        "id": "w3I62V-B7ofK"
      },
      "outputs": [],
      "source": [
        "aug = ImageDataGenerator(rotation_range=25, width_shift_range=0.1,\n",
        "                         height_shift_range=0.1, shear_range=0.2, zoom_range=0.2,\n",
        "                         horizontal_flip=True, fill_mode=\"nearest\")\n"
      ]
    },
    {
      "cell_type": "code",
      "execution_count": 39,
      "metadata": {
        "id": "9cEhfSJK8dyA"
      },
      "outputs": [],
      "source": [
        "# define model\n",
        "def build(width, height, depth, classes):\n",
        "    model = Sequential()\n",
        "    inputShape = (height, width, depth)\n",
        "    chanDim = -1\n",
        "    if K.image_data_format() == \"channels_first\": #Returns a string, either 'channels_first' or 'channels_last'\n",
        "        inputShape = (depth, height, width)\n",
        "        chanDim = 1\n",
        "    \n",
        "\n",
        "\n",
        "    model.add(Conv2D(32, (3,3), padding=\"same\", input_shape=inputShape))\n",
        "    model.add(Activation(\"relu\"))\n",
        "    model.add(BatchNormalization(axis=chanDim))\n",
        "    model.add(MaxPooling2D(pool_size=(3,3)))\n",
        "    model.add(Dropout(0.25))\n",
        "\n",
        "    model.add(Conv2D(64, (3,3), padding=\"same\"))\n",
        "    model.add(Activation(\"relu\"))\n",
        "    model.add(BatchNormalization(axis=chanDim))\n",
        "\n",
        "    model.add(Conv2D(64, (3,3), padding=\"same\"))\n",
        "    model.add(Activation(\"relu\"))\n",
        "    model.add(BatchNormalization(axis=chanDim))\n",
        "    model.add(MaxPooling2D(pool_size=(2,2)))\n",
        "    model.add(Dropout(0.25))\n",
        "\n",
        "\n",
        "    model.add(Conv2D(128, (3,3), padding=\"same\"))\n",
        "    model.add(Activation(\"relu\"))\n",
        "    model.add(BatchNormalization(axis=chanDim))\n",
        "\n",
        "    model.add(Conv2D(128, (3,3), padding=\"same\"))\n",
        "    model.add(Activation(\"relu\"))\n",
        "    model.add(BatchNormalization(axis=chanDim))\n",
        "    model.add(MaxPooling2D(pool_size=(2,2)))\n",
        "    model.add(Dropout(0.25))\n",
        "\n",
        "    model.add(Conv2D(128, (3,3), padding=\"same\"))\n",
        "    model.add(Activation(\"relu\"))\n",
        "    model.add(BatchNormalization(axis=chanDim))\n",
        "\n",
        "\n",
        "\n",
        "    model.add(Flatten())\n",
        "    model.add(Dense(1024))\n",
        "    model.add(Activation(\"relu\"))\n",
        "    model.add(BatchNormalization())\n",
        "    model.add(Dropout(0.5))\n",
        "\n",
        "    model.add(Dense(classes))\n",
        "    model.add(Activation(\"sigmoid\"))\n",
        "\n",
        "    return model\n"
      ]
    },
    {
      "cell_type": "code",
      "execution_count": 40,
      "metadata": {
        "colab": {
          "base_uri": "https://localhost:8080/"
        },
        "id": "WCGt4R_e8l_n",
        "outputId": "bad63872-c144-4c7b-e51c-766c9582a9ba"
      },
      "outputs": [
        {
          "name": "stdout",
          "output_type": "stream",
          "text": [
            "Model: \"sequential_1\"\n",
            "_________________________________________________________________\n",
            "Layer (type)                 Output Shape              Param #   \n",
            "=================================================================\n",
            "conv2d_6 (Conv2D)            (None, 96, 96, 32)        896       \n",
            "_________________________________________________________________\n",
            "activation_8 (Activation)    (None, 96, 96, 32)        0         \n",
            "_________________________________________________________________\n",
            "batch_normalization_7 (Batch (None, 96, 96, 32)        128       \n",
            "_________________________________________________________________\n",
            "max_pooling2d_3 (MaxPooling2 (None, 32, 32, 32)        0         \n",
            "_________________________________________________________________\n",
            "dropout_4 (Dropout)          (None, 32, 32, 32)        0         \n",
            "_________________________________________________________________\n",
            "conv2d_7 (Conv2D)            (None, 32, 32, 64)        18496     \n",
            "_________________________________________________________________\n",
            "activation_9 (Activation)    (None, 32, 32, 64)        0         \n",
            "_________________________________________________________________\n",
            "batch_normalization_8 (Batch (None, 32, 32, 64)        256       \n",
            "_________________________________________________________________\n",
            "conv2d_8 (Conv2D)            (None, 32, 32, 64)        36928     \n",
            "_________________________________________________________________\n",
            "activation_10 (Activation)   (None, 32, 32, 64)        0         \n",
            "_________________________________________________________________\n",
            "batch_normalization_9 (Batch (None, 32, 32, 64)        256       \n",
            "_________________________________________________________________\n",
            "max_pooling2d_4 (MaxPooling2 (None, 16, 16, 64)        0         \n",
            "_________________________________________________________________\n",
            "dropout_5 (Dropout)          (None, 16, 16, 64)        0         \n",
            "_________________________________________________________________\n",
            "conv2d_9 (Conv2D)            (None, 16, 16, 128)       73856     \n",
            "_________________________________________________________________\n",
            "activation_11 (Activation)   (None, 16, 16, 128)       0         \n",
            "_________________________________________________________________\n",
            "batch_normalization_10 (Batc (None, 16, 16, 128)       512       \n",
            "_________________________________________________________________\n",
            "conv2d_10 (Conv2D)           (None, 16, 16, 128)       147584    \n",
            "_________________________________________________________________\n",
            "activation_12 (Activation)   (None, 16, 16, 128)       0         \n",
            "_________________________________________________________________\n",
            "batch_normalization_11 (Batc (None, 16, 16, 128)       512       \n",
            "_________________________________________________________________\n",
            "max_pooling2d_5 (MaxPooling2 (None, 8, 8, 128)         0         \n",
            "_________________________________________________________________\n",
            "dropout_6 (Dropout)          (None, 8, 8, 128)         0         \n",
            "_________________________________________________________________\n",
            "conv2d_11 (Conv2D)           (None, 8, 8, 128)         147584    \n",
            "_________________________________________________________________\n",
            "activation_13 (Activation)   (None, 8, 8, 128)         0         \n",
            "_________________________________________________________________\n",
            "batch_normalization_12 (Batc (None, 8, 8, 128)         512       \n",
            "_________________________________________________________________\n",
            "flatten_1 (Flatten)          (None, 8192)              0         \n",
            "_________________________________________________________________\n",
            "dense_2 (Dense)              (None, 1024)              8389632   \n",
            "_________________________________________________________________\n",
            "activation_14 (Activation)   (None, 1024)              0         \n",
            "_________________________________________________________________\n",
            "batch_normalization_13 (Batc (None, 1024)              4096      \n",
            "_________________________________________________________________\n",
            "dropout_7 (Dropout)          (None, 1024)              0         \n",
            "_________________________________________________________________\n",
            "dense_3 (Dense)              (None, 2)                 2050      \n",
            "_________________________________________________________________\n",
            "activation_15 (Activation)   (None, 2)                 0         \n",
            "=================================================================\n",
            "Total params: 8,823,298\n",
            "Trainable params: 8,820,162\n",
            "Non-trainable params: 3,136\n",
            "_________________________________________________________________\n"
          ]
        }
      ],
      "source": [
        "# build model\n",
        "model = build(width=img_dims[0], height=img_dims[1], depth=img_dims[2], \n",
        "              classes=2)\n",
        "\n",
        "\n",
        "model.summary()"
      ]
    },
    {
      "cell_type": "code",
      "execution_count": 50,
      "metadata": {},
      "outputs": [],
      "source": [
        "from IPython.display import SVG\n",
        "from keras.utils.vis_utils import model_to_dot\n",
        "import graphviz"
      ]
    },
    {
      "cell_type": "code",
      "execution_count": 49,
      "metadata": {
        "id": "L5SPi76Rv6F7"
      },
      "outputs": [
        {
          "ename": "SyntaxError",
          "evalue": "invalid syntax (<ipython-input-49-0c69439b27c8>, line 1)",
          "output_type": "error",
          "traceback": [
            "\u001b[1;36m  File \u001b[1;32m\"<ipython-input-49-0c69439b27c8>\"\u001b[1;36m, line \u001b[1;32m1\u001b[0m\n\u001b[1;33m    pip install pydot\u001b[0m\n\u001b[1;37m        ^\u001b[0m\n\u001b[1;31mSyntaxError\u001b[0m\u001b[1;31m:\u001b[0m invalid syntax\n"
          ]
        }
      ],
      "source": [
        "pip install pydot\n",
        "pip install graphviz"
      ]
    },
    {
      "cell_type": "code",
      "execution_count": 43,
      "metadata": {
        "id": "a-D4zOBv8mdA"
      },
      "outputs": [],
      "source": [
        "# compile the model\n",
        "opt = Adam(learning_rate=lr, decay=lr/epochs)\n",
        "model.compile(loss=\"binary_crossentropy\", optimizer=opt, metrics=[\"accuracy\"])\n"
      ]
    },
    {
      "cell_type": "code",
      "execution_count": 44,
      "metadata": {
        "colab": {
          "base_uri": "https://localhost:8080/"
        },
        "id": "SlDNNRQp8mhX",
        "outputId": "962aad61-02dc-4a65-8960-14e6fbe91083"
      },
      "outputs": [
        {
          "name": "stdout",
          "output_type": "stream",
          "text": [
            "Epoch 1/50\n",
            "157/157 [==============================] - 58s 362ms/step - loss: 0.4312 - accuracy: 0.8550 - val_loss: 13.5724 - val_accuracy: 0.0548\n",
            "Epoch 2/50\n",
            "157/157 [==============================] - 59s 376ms/step - loss: 0.0364 - accuracy: 0.9956 - val_loss: 46.7871 - val_accuracy: 0.0548\n",
            "Epoch 3/50\n",
            "157/157 [==============================] - 58s 368ms/step - loss: 0.0091 - accuracy: 0.9994 - val_loss: 6.9203 - val_accuracy: 0.6561\n",
            "Epoch 4/50\n",
            "157/157 [==============================] - 58s 369ms/step - loss: 0.0122 - accuracy: 0.9980 - val_loss: 0.0633 - val_accuracy: 0.9873\n",
            "Epoch 5/50\n",
            "157/157 [==============================] - 58s 369ms/step - loss: 0.0053 - accuracy: 0.9994 - val_loss: 4.4934e-04 - val_accuracy: 1.0000\n",
            "Epoch 6/50\n",
            "157/157 [==============================] - 59s 374ms/step - loss: 0.0038 - accuracy: 0.9994 - val_loss: 3.8158e-04 - val_accuracy: 1.0000\n",
            "Epoch 7/50\n",
            "157/157 [==============================] - 60s 385ms/step - loss: 0.0010 - accuracy: 1.0000 - val_loss: 3.5892e-04 - val_accuracy: 1.0000\n",
            "Epoch 8/50\n",
            "157/157 [==============================] - 55s 352ms/step - loss: 5.9454e-04 - accuracy: 1.0000 - val_loss: 1.7039e-04 - val_accuracy: 1.0000\n",
            "Epoch 9/50\n",
            "157/157 [==============================] - 55s 352ms/step - loss: 6.2734e-04 - accuracy: 1.0000 - val_loss: 1.1520e-04 - val_accuracy: 1.0000\n",
            "Epoch 10/50\n",
            "157/157 [==============================] - 58s 368ms/step - loss: 4.8725e-04 - accuracy: 1.0000 - val_loss: 1.2491e-04 - val_accuracy: 1.0000\n",
            "Epoch 11/50\n",
            "157/157 [==============================] - 57s 363ms/step - loss: 4.2499e-04 - accuracy: 1.0000 - val_loss: 1.0316e-04 - val_accuracy: 1.0000\n",
            "Epoch 12/50\n",
            "157/157 [==============================] - 55s 348ms/step - loss: 0.0175 - accuracy: 0.9962 - val_loss: 0.0716 - val_accuracy: 0.9944\n",
            "Epoch 13/50\n",
            "157/157 [==============================] - 52s 331ms/step - loss: 0.0132 - accuracy: 0.9976 - val_loss: 2.6419e-05 - val_accuracy: 1.0000\n",
            "Epoch 14/50\n",
            "157/157 [==============================] - 50s 320ms/step - loss: 3.6483e-04 - accuracy: 1.0000 - val_loss: 8.4868e-05 - val_accuracy: 1.0000\n",
            "Epoch 15/50\n",
            "157/157 [==============================] - 52s 332ms/step - loss: 5.8470e-04 - accuracy: 0.9998 - val_loss: 0.0041 - val_accuracy: 0.9992\n",
            "Epoch 16/50\n",
            "157/157 [==============================] - 51s 327ms/step - loss: 3.3324e-04 - accuracy: 1.0000 - val_loss: 0.0040 - val_accuracy: 1.0000\n",
            "Epoch 17/50\n",
            "157/157 [==============================] - 53s 338ms/step - loss: 2.3854e-04 - accuracy: 1.0000 - val_loss: 5.8419e-05 - val_accuracy: 1.0000\n",
            "Epoch 18/50\n",
            "157/157 [==============================] - 50s 319ms/step - loss: 3.1672e-04 - accuracy: 1.0000 - val_loss: 4.5863e-05 - val_accuracy: 1.0000\n",
            "Epoch 19/50\n",
            "157/157 [==============================] - 49s 309ms/step - loss: 2.2910e-04 - accuracy: 1.0000 - val_loss: 3.6184e-05 - val_accuracy: 1.0000\n",
            "Epoch 20/50\n",
            "157/157 [==============================] - 48s 308ms/step - loss: 0.0019 - accuracy: 0.9996 - val_loss: 1.5092e-04 - val_accuracy: 1.0000\n",
            "Epoch 21/50\n",
            "157/157 [==============================] - 49s 311ms/step - loss: 7.4512e-04 - accuracy: 0.9998 - val_loss: 2.6753e-05 - val_accuracy: 1.0000\n",
            "Epoch 22/50\n",
            "157/157 [==============================] - 50s 321ms/step - loss: 1.6809e-04 - accuracy: 1.0000 - val_loss: 2.2843e-05 - val_accuracy: 1.0000\n",
            "Epoch 23/50\n",
            "157/157 [==============================] - 52s 331ms/step - loss: 1.1372e-04 - accuracy: 1.0000 - val_loss: 1.7927e-05 - val_accuracy: 1.0000\n",
            "Epoch 24/50\n",
            "157/157 [==============================] - 55s 348ms/step - loss: 7.0281e-05 - accuracy: 1.0000 - val_loss: 1.5626e-05 - val_accuracy: 1.0000\n",
            "Epoch 25/50\n",
            "157/157 [==============================] - 50s 318ms/step - loss: 5.8036e-05 - accuracy: 1.0000 - val_loss: 1.4703e-05 - val_accuracy: 1.0000\n",
            "Epoch 26/50\n",
            "157/157 [==============================] - 55s 353ms/step - loss: 6.3374e-05 - accuracy: 1.0000 - val_loss: 1.4643e-05 - val_accuracy: 1.0000\n",
            "Epoch 27/50\n",
            "157/157 [==============================] - 59s 374ms/step - loss: 5.4218e-05 - accuracy: 1.0000 - val_loss: 1.0418e-05 - val_accuracy: 1.0000\n",
            "Epoch 28/50\n",
            "157/157 [==============================] - 57s 361ms/step - loss: 4.1176e-05 - accuracy: 1.0000 - val_loss: 9.3067e-06 - val_accuracy: 1.0000\n",
            "Epoch 29/50\n",
            "157/157 [==============================] - 59s 379ms/step - loss: 3.3274e-05 - accuracy: 1.0000 - val_loss: 7.8175e-06 - val_accuracy: 1.0000\n",
            "Epoch 30/50\n",
            "157/157 [==============================] - 56s 356ms/step - loss: 3.3624e-05 - accuracy: 1.0000 - val_loss: 7.2317e-06 - val_accuracy: 1.0000\n",
            "Epoch 31/50\n",
            "157/157 [==============================] - 57s 365ms/step - loss: 2.1206e-05 - accuracy: 1.0000 - val_loss: 6.4818e-06 - val_accuracy: 1.0000\n",
            "Epoch 32/50\n",
            "157/157 [==============================] - 59s 376ms/step - loss: 3.1738e-05 - accuracy: 1.0000 - val_loss: 5.9967e-06 - val_accuracy: 1.0000\n",
            "Epoch 33/50\n",
            "157/157 [==============================] - 55s 349ms/step - loss: 0.0012 - accuracy: 0.9998 - val_loss: 0.1288 - val_accuracy: 0.9897\n",
            "Epoch 34/50\n",
            "157/157 [==============================] - 53s 335ms/step - loss: 0.0191 - accuracy: 0.9972 - val_loss: 0.0858 - val_accuracy: 0.9936\n",
            "Epoch 35/50\n",
            "157/157 [==============================] - 52s 333ms/step - loss: 5.4298e-04 - accuracy: 0.9998 - val_loss: 1.2493e-06 - val_accuracy: 1.0000\n",
            "Epoch 36/50\n",
            "157/157 [==============================] - 53s 339ms/step - loss: 7.3949e-05 - accuracy: 1.0000 - val_loss: 2.5970e-06 - val_accuracy: 1.0000\n",
            "Epoch 37/50\n",
            "157/157 [==============================] - 52s 328ms/step - loss: 5.1793e-04 - accuracy: 0.9998 - val_loss: 1.2447e-06 - val_accuracy: 1.0000\n",
            "Epoch 38/50\n",
            "157/157 [==============================] - 51s 326ms/step - loss: 3.2434e-05 - accuracy: 1.0000 - val_loss: 1.4050e-06 - val_accuracy: 1.0000\n",
            "Epoch 39/50\n",
            "157/157 [==============================] - 52s 334ms/step - loss: 7.4158e-05 - accuracy: 1.0000 - val_loss: 1.8351e-06 - val_accuracy: 1.0000\n",
            "Epoch 40/50\n",
            "157/157 [==============================] - 50s 316ms/step - loss: 4.8743e-05 - accuracy: 1.0000 - val_loss: 7.7902e-07 - val_accuracy: 1.0000\n",
            "Epoch 41/50\n",
            "157/157 [==============================] - 52s 331ms/step - loss: 1.6542e-05 - accuracy: 1.0000 - val_loss: 7.9576e-07 - val_accuracy: 1.0000\n",
            "Epoch 42/50\n",
            "157/157 [==============================] - 51s 325ms/step - loss: 3.5618e-05 - accuracy: 1.0000 - val_loss: 2.4587e-07 - val_accuracy: 1.0000\n",
            "Epoch 43/50\n",
            "157/157 [==============================] - 46s 294ms/step - loss: 0.0295 - accuracy: 0.9964 - val_loss: 0.4287 - val_accuracy: 0.9762\n",
            "Epoch 44/50\n",
            "157/157 [==============================] - 50s 317ms/step - loss: 8.4438e-04 - accuracy: 0.9994 - val_loss: 0.0121 - val_accuracy: 0.9960\n",
            "Epoch 45/50\n",
            "157/157 [==============================] - 51s 324ms/step - loss: 0.0016 - accuracy: 0.9996 - val_loss: 0.0029 - val_accuracy: 0.9992\n",
            "Epoch 46/50\n",
            "157/157 [==============================] - 56s 354ms/step - loss: 0.0018 - accuracy: 0.9994 - val_loss: 0.0021 - val_accuracy: 1.0000\n",
            "Epoch 47/50\n",
            "157/157 [==============================] - 55s 348ms/step - loss: 1.9058e-04 - accuracy: 1.0000 - val_loss: 1.4913e-06 - val_accuracy: 1.0000\n",
            "Epoch 48/50\n",
            "157/157 [==============================] - 55s 349ms/step - loss: 5.1825e-04 - accuracy: 0.9998 - val_loss: 0.0038 - val_accuracy: 0.9992\n",
            "Epoch 49/50\n",
            "157/157 [==============================] - 55s 350ms/step - loss: 4.8226e-05 - accuracy: 1.0000 - val_loss: 0.0021 - val_accuracy: 0.9992\n",
            "Epoch 50/50\n",
            "157/157 [==============================] - 56s 353ms/step - loss: 5.5015e-05 - accuracy: 1.0000 - val_loss: 0.0014 - val_accuracy: 0.9992\n"
          ]
        }
      ],
      "source": [
        "# train the model\n",
        "H = model.fit(aug.flow(trainX, trainY, batch_size=batch_size),\n",
        "                        validation_data=(testX,testY),\n",
        "                        steps_per_epoch=len(trainX) // batch_size,\n",
        "                        epochs=epochs, verbose=1)"
      ]
    },
    {
      "cell_type": "code",
      "execution_count": 45,
      "metadata": {
        "colab": {
          "base_uri": "https://localhost:8080/",
          "height": 299
        },
        "id": "SbaQD3E78mkv",
        "outputId": "9b106a24-4b0f-408c-fc34-11b31f3779bd"
      },
      "outputs": [
        {
          "data": {
            "image/png": "[encoded data removed]",
            "text/plain": [
              "<Figure size 432x288 with 1 Axes>"
            ]
          },
          "metadata": {},
          "output_type": "display_data"
        }
      ],
      "source": [
        "\n",
        "# plot training/validation loss/accuracy\n",
        "plt.style.use(\"ggplot\")\n",
        "plt.figure()\n",
        "N = epochs\n",
        "plt.plot(np.arange(0,N), H.history[\"loss\"], label=\"train_loss\")\n",
        "plt.plot(np.arange(0,N), H.history[\"val_loss\"], label=\"val_loss\")\n",
        "plt.plot(np.arange(0,N), H.history[\"accuracy\"], label=\"train_acc\")\n",
        "plt.plot(np.arange(0,N), H.history[\"val_accuracy\"], label=\"val_acc\")\n",
        "\n",
        "plt.title(\"Training Loss and Accuracy\")\n",
        "plt.xlabel(\"Epoch #\")\n",
        "plt.ylabel(\"Loss/Accuracy\")\n",
        "plt.legend(loc=\"upper right\")\n",
        "\n",
        "# save plot to disk\n",
        "plt.savefig('plot.png')"
      ]
    },
    {
      "cell_type": "code",
      "execution_count": 46,
      "metadata": {
        "id": "YxwqSCwaBtNR"
      },
      "outputs": [],
      "source": [
        "# save the model to disk\n",
        "model.save('utubemodel.h5')\n"
      ]
    },
    {
      "cell_type": "code",
      "execution_count": 47,
      "metadata": {
        "colab": {
          "base_uri": "https://localhost:8080/",
          "height": 565
        },
        "id": "bgJ9leo2_SEo",
        "outputId": "cf753db7-0993-47d7-faa3-297d53d21881"
      },
      "outputs": [
        {
          "data": {
            "image/png": "[encoded data removed]",
            "text/plain": [
              "<Figure size 432x288 with 1 Axes>"
            ]
          },
          "metadata": {},
          "output_type": "display_data"
        },
        {
          "data": {
            "image/png": "[encoded data removed]",
            "text/plain": [
              "<Figure size 432x288 with 1 Axes>"
            ]
          },
          "metadata": {},
          "output_type": "display_data"
        },
        {
          "data": {
            "text/plain": [
              "<Figure size 432x288 with 0 Axes>"
            ]
          },
          "metadata": {},
          "output_type": "display_data"
        }
      ],
      "source": [
        "import matplotlib.pyplot as plt\n",
        "\n",
        "\n",
        "epochs = epochs\n",
        "\n",
        "plt.plot(np.arange(0,N), H.history[\"accuracy\"], label=\"train_acc\")\n",
        "plt.plot(np.arange(0,N), H.history[\"val_accuracy\"], label=\"val_acc\")\n",
        "plt.title('sun')\n",
        "plt.legend()\n",
        "\n",
        "plt.figure()\n",
        "\n",
        "plt.plot(np.arange(0,N), H.history[\"loss\"], label=\"train_loss\")\n",
        "plt.plot(np.arange(0,N), H.history[\"val_loss\"], label=\"val_loss\")\n",
        "plt.title('sun loss')\n",
        "plt.legend()\n",
        "\n",
        "plt.show()\n",
        "\n",
        "# save plot to disk\n",
        "plt.savefig('sun.png')"
      ]
    },
    {
      "cell_type": "code",
      "execution_count": null,
      "metadata": {
        "colab": {
          "base_uri": "https://localhost:8080/",
          "height": 136
        },
        "id": "9Etjie-p-0hR",
        "outputId": "dc2e8dd8-6693-4717-e0fe-94927711b460"
      },
      "outputs": [],
      "source": [
        "# 참조 유튜브 https://www.youtube.com/watch?v=WOuAI5DhHyU&ab_channel=BalajiSrinivasan"
      ]
    },
    {
      "cell_type": "code",
      "execution_count": 48,
      "metadata": {
        "id": "skWuUVk-v1hN"
      },
      "outputs": [
        {
          "ename": "ImportError",
          "evalue": "cannot import name 'plot_model' from 'keras.utils' (C:\\Users\\Kwon\\anaconda3\\lib\\site-packages\\keras\\utils\\__init__.py)",
          "output_type": "error",
          "traceback": [
            "\u001b[1;31m---------------------------------------------------------------------------\u001b[0m",
            "\u001b[1;31mImportError\u001b[0m                               Traceback (most recent call last)",
            "\u001b[1;32m<ipython-input-48-51665d494a19>\u001b[0m in \u001b[0;36m<module>\u001b[1;34m\u001b[0m\n\u001b[1;32m----> 1\u001b[1;33m \u001b[1;32mfrom\u001b[0m \u001b[0mkeras\u001b[0m\u001b[1;33m.\u001b[0m\u001b[0mutils\u001b[0m \u001b[1;32mimport\u001b[0m \u001b[0mplot_model\u001b[0m\u001b[1;33m\u001b[0m\u001b[1;33m\u001b[0m\u001b[0m\n\u001b[0m\u001b[0;32m      2\u001b[0m \u001b[0mplot_model\u001b[0m\u001b[1;33m(\u001b[0m\u001b[0mmodel\u001b[0m\u001b[1;33m,\u001b[0m \u001b[0mto_file\u001b[0m\u001b[1;33m=\u001b[0m\u001b[1;34m'utube.svg'\u001b[0m\u001b[1;33m)\u001b[0m\u001b[1;33m\u001b[0m\u001b[1;33m\u001b[0m\u001b[0m\n\u001b[0;32m      3\u001b[0m \u001b[1;31m# jupyter notebook에서 보기 위함\u001b[0m\u001b[1;33m\u001b[0m\u001b[1;33m\u001b[0m\u001b[1;33m\u001b[0m\u001b[0m\n\u001b[0;32m      4\u001b[0m \u001b[0mSVG\u001b[0m\u001b[1;33m(\u001b[0m\u001b[0mmodel_to_dot\u001b[0m\u001b[1;33m(\u001b[0m\u001b[0mmodel1\u001b[0m\u001b[1;33m,\u001b[0m \u001b[0mshow_shapes\u001b[0m\u001b[1;33m=\u001b[0m\u001b[1;32mTrue\u001b[0m\u001b[1;33m)\u001b[0m\u001b[1;33m.\u001b[0m\u001b[0mcreate\u001b[0m\u001b[1;33m(\u001b[0m\u001b[0mprog\u001b[0m\u001b[1;33m=\u001b[0m\u001b[1;34m'dot'\u001b[0m\u001b[1;33m,\u001b[0m \u001b[0mformat\u001b[0m\u001b[1;33m=\u001b[0m\u001b[1;34m'svg'\u001b[0m\u001b[1;33m)\u001b[0m\u001b[1;33m)\u001b[0m\u001b[1;33m\u001b[0m\u001b[1;33m\u001b[0m\u001b[0m\n",
            "\u001b[1;31mImportError\u001b[0m: cannot import name 'plot_model' from 'keras.utils' (C:\\Users\\Kwon\\anaconda3\\lib\\site-packages\\keras\\utils\\__init__.py)"
          ]
        }
      ],
      "source": [
        "#모델을 도식화\n",
        "from keras.utils import plot_model\n",
        "plot_model(model, to_file='utube.svg')\n",
        "# jupyter notebook에서 보기 위함\n",
        "SVG(model_to_dot(model1, show_shapes=True).create(prog='dot', format='svg'))"
      ]
    },
    {
      "cell_type": "code",
      "execution_count": null,
      "metadata": {
        "id": "NMRdInOe3DsJ"
      },
      "outputs": [],
      "source": []
    }
  ],
  "metadata": {
    "accelerator": "GPU",
    "colab": {
      "collapsed_sections": [],
      "name": "유튜브_참고모델_에폭50 수정본",
      "provenance": []
    },
    "interpreter": {
      "hash": "a4fd1451840babbb37e6226633a71627e1f918595ad990aa0f1a715d0e292c9f"
    },
    "kernelspec": {
      "display_name": "Python 3.8.8 64-bit ('base': conda)",
      "name": "python3"
    },
    "language_info": {
      "codemirror_mode": {
        "name": "ipython",
        "version": 3
      },
      "file_extension": ".py",
      "mimetype": "text/x-python",
      "name": "python",
      "nbconvert_exporter": "python",
      "pygments_lexer": "ipython3",
      "version": "3.8.8"
    }
  },
  "nbformat": 4,
  "nbformat_minor": 0
}
