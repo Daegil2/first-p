{
 "cells": [
  {
   "cell_type": "code",
   "execution_count": 19,
   "metadata": {},
   "outputs": [],
   "source": [
    "import cv2\n",
    "#추출할 파일\n",
    "cap =cv2.VideoCapture('123456.mp4')\n",
    "\n",
    "#object detection from stable camera\n",
    "object_detector = cv2.createBackgroundSubtractorMOG2(history=100, varThreshold =40)"
   ]
  },
  {
   "cell_type": "code",
   "execution_count": 20,
   "metadata": {},
   "outputs": [],
   "source": [
    "while True:\n",
    "    ref, frame = cap.read()\n",
    "    #extract Region of interest\n",
    "    height, width, _ =frame.shape\n",
    "   \n",
    "    #extract region of interest(추출할 구역)\n",
    "    roi = frame[100:500, 400: 800]\n",
    " \n",
    "    #object detection\n",
    "    mask= object_dectector.apply(roi)\n",
    "    _, mask= cv2.threshold(mask, 254,255, cv2.THRESH_BINARY)\n",
    "    contours, _= cv2.findContours(mask, cv2.RETR_TREE, cv2.CHAIN_APPROX_SIMPLE)\n",
    "    for cnt in contours:\n",
    "        #calculate area and remove small elements\n",
    "        area = cv2.contourArea(cnt)\n",
    "        if area > 100:\n",
    "            #cv2.drawContours(roi, [cnt], -1,(0,255,0),2)\n",
    "            x,y,w,h =cv2.boundingRect(cnt)\n",
    "            cv2.rectangle(roi, (x,y), (x+w,y+h),(0,255,0),3)\n",
    "        \n",
    "\n",
    "    cv2.imshow('roi',roi)\n",
    "    cv2.imshow('frame',frame)\n",
    "    cv2.imshow('Mask',mask)\n",
    "    key =cv2.waitKey(30)\n",
    "\n",
    "    if key ==27:\n",
    "\n",
    "        break\n",
    "cv2.imshow('frame',frame)\n",
    "cap.release()\n",
    "cv2.destroyAllWindows()\n"
   ]
  },
  {
   "cell_type": "code",
   "execution_count": null,
   "metadata": {},
   "outputs": [],
   "source": []
  }
 ],
 "metadata": {
  "interpreter": {
   "hash": "a4fd1451840babbb37e6226633a71627e1f918595ad990aa0f1a715d0e292c9f"
  },
  "kernelspec": {
   "display_name": "Python 3.8.8 64-bit ('base': conda)",
   "language": "python",
   "name": "python3"
  },
  "language_info": {
   "codemirror_mode": {
    "name": "ipython",
    "version": 3
   },
   "file_extension": ".py",
   "mimetype": "text/x-python",
   "name": "python",
   "nbconvert_exporter": "python",
   "pygments_lexer": "ipython3",
   "version": "3.8.8"
  },
  "orig_nbformat": 4
 },
 "nbformat": 4,
 "nbformat_minor": 2
}
